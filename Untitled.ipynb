{
 "cells": [
  {
   "cell_type": "markdown",
   "id": "74c414fd",
   "metadata": {},
   "source": [
    "시계열 데이터에서의 이상 탐지는 매우 중요한 과제 중 하나로, 정상적인 패턴에서 벗어난 데이터 포인트를 식별하는 과정입니다. 이상 현상은 크게 세 가지 유형으로 나눌 수 있는데, 여기서는 'Point Anomaly'에 초점을 맞추겠습니다. 'Point Anomaly'는 데이터의 단일 포인트가 다른 정상적인 데이터 포인트와 크게 다를 때 발생합니다.\n",
    "\n",
    "아래는 시계열 데이터에 Point Anomaly를 도입하는 함수를 정의하는 방법입니다. 이 함수는 다음 단계를 포함합니다:\n",
    "\n",
    "1. **기본 시계열 데이터 생성**: 정상 범위 내에서 무작위 데이터를 생성합니다. 예를 들어, 사인 함수(sine wave)를 사용할 수 있습니다.\n",
    "2. **이상 데이터 포인트 도입**: 정의된 정상 데이터 패턴에 이상 값을 도입하여 이상 상황을 시뮬레이션합니다. 이상 값은 일반적으로 데이터의 정상 범위를 벗어나는 값을 가집니다."
   ]
  },
  {
   "cell_type": "markdown",
   "id": "7ef99cd6",
   "metadata": {},
   "source": [
    "### 기본 함수 정의\n",
    "\n",
    "이 함수는 다음 파라미터를 받습니다:\n",
    "\n",
    "- `num_points`: 생성할 데이터 포인트의 총 수\n",
    "- `anomaly_rate`: 전체 데이터 포인트 중 이상 데이터 포인트의 비율\n",
    "- `normal_range`: 정상 데이터 포인트의 범위 (예: `(0, 1)`)\n",
    "- `anomaly_range`: 이상 데이터 포인트의 범위 (예: `(5, 10)`)\n",
    "\n",
    "함수는 정상 데이터 포인트와 이상 데이터 포인트가 혼합된 시계열 데이터를 생성합니다."
   ]
  },
  {
   "cell_type": "code",
   "execution_count": null,
   "id": "04255c6c",
   "metadata": {},
   "outputs": [],
   "source": [
    "import numpy as np\n",
    "import matplotlib.pyplot as plt\n",
    "\n",
    "def generate_time_series_with_anomalies(num_points=1000, anomaly_rate=0.01, normal_range=(0, 1), anomaly_range=(5, 10)):\n",
    "    # 기본 시계열 데이터 생성\n",
    "    time_series = np.sin(np.linspace(0, 20, num_points)) + np.random.uniform(low=normal_range[0], high=normal_range[1], size=num_points)\n",
    "\n",
    "    # 이상 데이터 포인트 수 계산\n",
    "    num_anomalies = int(num_points * anomaly_rate)\n",
    "\n",
    "    # 이상 데이터 포인트의 인덱스 선택\n",
    "    anomaly_indices = np.random.choice(num_points, num_anomalies, replace=False)\n",
    "\n",
    "    # 선택된 인덱스에 이상 데이터 포인트 도입\n",
    "    for idx in anomaly_indices:\n",
    "        time_series[idx] += np.random.uniform(low=anomaly_range[0], high=anomaly_range[1])\n",
    "\n",
    "    return time_series, anomaly_indices\n",
    "\n",
    "# 함수 사용 예\n",
    "num_points = 1000\n",
    "anomaly_rate = 0.01\n",
    "normal_range = (0, 1)\n",
    "anomaly_range = (5, 10)\n",
    "\n",
    "time_series, anomaly_indices = generate_time_series_with_anomalies(num_points, anomaly_rate, normal_range, anomaly_range)\n",
    "\n",
    "# 결과 시각화\n",
    "plt.figure(figsize=(15, 5))\n",
    "plt.plot(time_series, label='Time Series')\n",
    "plt.scatter(anomaly_indices, time_series[anomaly_indices], color='red', label='Anomalies')\n",
    "plt.legend()\n",
    "plt.show()\n"
   ]
  },
  {
   "cell_type": "markdown",
   "id": "6f139b95",
   "metadata": {},
   "source": [
    "### 추가 기능\n",
    "연속적으로 나타나는 Point Anomaly를 생성하는 것은, 특정 구간에 이상치를 집중시키는 방법으로 접근할 수 있습니다. 이 경우, 이상치가 단일 포인트로 제한되지 않고 연속적인 시퀀스로 나타나도록 데이터를 조작합니다. 이 방식은 특정 시간 동안 데이터가 예상 범위를 벗어나는 상황을 모의할 수 있습니다.\n",
    "\n",
    "아래의 함수는 이러한 유형의 데이터를 생성하기 위해 수정될 수 있습니다. 주요 변경 사항은 연속적인 이상치를 생성하기 위한 로직을 추가하는 것입니다. 이를 위해, 연속적인 이상치가 시작되는 인덱스를 무작위로 선택하고, 그로부터 정해진 길이만큼 이상치를 생성하는 방식을 사용할 것입니다."
   ]
  },
  {
   "cell_type": "code",
   "execution_count": null,
   "id": "63edf454",
   "metadata": {},
   "outputs": [],
   "source": [
    "def generate_series_with_continuous_anomalies(num_points=1000, anomaly_length=50, normal_range=(0, 1), anomaly_range=(5, 10)):\n",
    "    # 기본 시계열 데이터 생성\n",
    "    time_series = np.sin(np.linspace(0, 20, num_points)) + np.random.uniform(low=normal_range[0], high=normal_range[1], size=num_points)\n",
    "\n",
    "    # 연속적인 이상 데이터 포인트가 시작되는 인덱스 선택\n",
    "    start_index = np.random.randint(0, num_points - anomaly_length)\n",
    "\n",
    "    # 연속적인 이상 데이터 포인트 생성\n",
    "    for i in range(start_index, start_index + anomaly_length):\n",
    "        time_series[i] += np.random.uniform(low=anomaly_range[0], high=anomaly_range[1])\n",
    "\n",
    "    # 연속적인 이상 데이터 포인트의 인덱스 반환\n",
    "    anomaly_indices = list(range(start_index, start_index + anomaly_length))\n",
    "\n",
    "    return time_series, anomaly_indices\n",
    "\n",
    "# 함수 사용 예\n",
    "num_points = 1000\n",
    "anomaly_length = 50  # 연속적인 이상치의 길이\n",
    "normal_range = (0, 1)\n",
    "anomaly_range = (5, 10)\n",
    "\n",
    "time_series, anomaly_indices = generate_series_with_continuous_anomalies(num_points, anomaly_length, normal_range, anomaly_range)\n",
    "\n",
    "# 결과 시각화\n",
    "plt.figure(figsize=(15, 5))\n",
    "plt.plot(time_series, label='Time Series')\n",
    "plt.scatter(anomaly_indices, time_series[anomaly_indices], color='red', label='Continuous Anomalies')\n",
    "plt.legend()\n",
    "plt.show()"
   ]
  }
 ],
 "metadata": {
  "kernelspec": {
   "display_name": "pad",
   "language": "python",
   "name": "pad"
  },
  "language_info": {
   "codemirror_mode": {
    "name": "ipython",
    "version": 3
   },
   "file_extension": ".py",
   "mimetype": "text/x-python",
   "name": "python",
   "nbconvert_exporter": "python",
   "pygments_lexer": "ipython3",
   "version": "3.10.13"
  }
 },
 "nbformat": 4,
 "nbformat_minor": 5
}
